{
 "cells": [
  {
   "cell_type": "code",
   "execution_count": null,
   "metadata": {
    "application/vnd.databricks.v1+cell": {
     "inputWidgets": {},
     "nuid": "86391a79-f9c6-447d-81ff-e1aeff6521b5",
     "showTitle": false,
     "title": ""
    }
   },
   "outputs": [],
   "source": [
    "%scala\n",
    "\n",
    "import java.io.File\n",
    "import java.nio.file.{Files, Path, Paths, StandardCopyOption}\n",
    "import java.nio.file.attribute.PosixFilePermissions\n",
    "import java.text.SimpleDateFormat\n",
    "import java.util.{Date, Properties}\n",
    "\n",
    "import scala.sys.process._\n",
    "\n",
    "import org.apache.spark.SparkContext"
   ]
  },
  {
   "cell_type": "code",
   "execution_count": null,
   "metadata": {
    "application/vnd.databricks.v1+cell": {
     "inputWidgets": {},
     "nuid": "3ad4c0ed-b926-4c3b-8a4b-8cae97c6f749",
     "showTitle": false,
     "title": ""
    }
   },
   "outputs": [],
   "source": [
    "%scala\n",
    "\n",
    "val publicKey = \"cat /home/ubuntu/.ssh/id_rsa.pub\".!!\n",
    "\n",
    "def addAuthorizedPublicKey(key: String): Unit = {\n",
    "  val fw = new java.io.FileWriter(\"/home/ubuntu/.ssh/authorized_keys\", /* append */ true)\n",
    "  fw.write(\"\\n\" + key)\n",
    "  fw.close()\n",
    "}\n",
    "\n",
    "/**\n",
    " * Inject key into executors so that the driver can ssh into them.\n",
    " */\n",
    "\n",
    "val numExecutors = sc.getExecutorMemoryStatus.keys.size\n",
    "sc.parallelize(0 until numExecutors, numExecutors).foreach { i =>\n",
    "  addAuthorizedPublicKey(publicKey)\n",
    "}\n",
    "addAuthorizedPublicKey(publicKey)"
   ]
  },
  {
   "cell_type": "code",
   "execution_count": null,
   "metadata": {
    "application/vnd.databricks.v1+cell": {
     "inputWidgets": {},
     "nuid": "a3661340-5d33-4ce4-aeab-0dea3fc55ca5",
     "showTitle": false,
     "title": ""
    }
   },
   "outputs": [],
   "source": [
    "%scala\n",
    "\n",
    "val workers: List[String] = {\n",
    "  val executors = sc.getExecutorMemoryStatus.keys.map(_.split(\":\").head).map { ip =>\n",
    "    if (ip.startsWith(\"ip\")) ip.stripPrefix(\"ip-\").split('.').head.replace(\"-\", \".\")\n",
    "    else ip\n",
    "  }.toSet\n",
    "  println(\"Executors = \" + executors)\n",
    "  executors.toList\n",
    "}\n",
    "println(s\"Workers = \" + workers)\n",
    "\n",
    "\n",
    "def writeFile(path: String, contents: String, append: Boolean = false): Unit = {\n",
    "  val fw = new java.io.FileWriter(path, append)\n",
    "  fw.write(contents)\n",
    "  fw.close()\n",
    "}\n",
    "\n",
    "def addHostfile(key: String): Unit = {\n",
    "  writeFile(\"/home/ubuntu/.ssh/hostfile\",key + \"\\n\" , true)\n",
    "}\n",
    "\n",
    "workers.foreach { ip =>\n",
    "  addHostfile(ip)\n",
    "}"
   ]
  },
  {
   "cell_type": "code",
   "execution_count": null,
   "metadata": {
    "application/vnd.databricks.v1+cell": {
     "inputWidgets": {},
     "nuid": "afd86042-ccc0-4eb3-be39-9b52f93446a2",
     "showTitle": false,
     "title": ""
    }
   },
   "outputs": [],
   "source": [
    "%scala\n",
    "\n",
    "\n",
    "def createIpyprofile(logStdout: Boolean = true): String = {\n",
    "  \n",
    "  \n",
    "  val outBuffer = new collection.mutable.ArrayBuffer[String]()\n",
    "  val logger = ProcessLogger(line => outBuffer += line, println(_))\n",
    "  \n",
    "  val exitCode = \n",
    "    Seq(\"ipython\", \"profile\", \"create\", \"--parallel\", \"--profile=mpi\", \"--profile-dir=~/.ipython/profile_mpi\") ! logger\n",
    "  if (logStdout) {\n",
    "    outBuffer.foreach(println)\n",
    "  }\n",
    "  if (exitCode != 0) {\n",
    "    println(s\"FAILED: on host: \")\n",
    "    sys.error(\"Command failed\")\n",
    "  }\n",
    "  println(s\"SUCCESS: on host: \")\n",
    "  outBuffer.mkString(\"\\n\")\n",
    "}\n",
    "\n",
    "/**\n",
    " * Create Ipython profile on worker nodes\n",
    " */\n",
    "\n",
    "val numExecutors = sc.getExecutorMemoryStatus.keys.size\n",
    "sc.parallelize(0 until numExecutors, numExecutors).foreach { i =>\n",
    "  createIpyprofile()\n",
    "}"
   ]
  },
  {
   "cell_type": "code",
   "execution_count": null,
   "metadata": {
    "application/vnd.databricks.v1+cell": {
     "inputWidgets": {},
     "nuid": "3935d9ba-2aa8-41de-9bc8-b588ad1e66ef",
     "showTitle": false,
     "title": ""
    }
   },
   "outputs": [],
   "source": [
    "%scala\n",
    "\n",
    "\n",
    "def createSSHfolder(logStdout: Boolean = true): String = {\n",
    "  \n",
    "  \n",
    "  val outBuffer = new collection.mutable.ArrayBuffer[String]()\n",
    "  val logger = ProcessLogger(line => outBuffer += line, println(_))\n",
    "  \n",
    "  val exitCode = \n",
    "    Seq(\"mkdir\", \"-p\", \"/root/.ssh\") ! logger\n",
    "  if (logStdout) {\n",
    "    outBuffer.foreach(println)\n",
    "  }\n",
    "  if (exitCode != 0) {\n",
    "    println(s\"FAILED: on host: \")\n",
    "    sys.error(\"Command failed\")\n",
    "  }\n",
    "  println(s\"SUCCESS: on host: \")\n",
    "  outBuffer.mkString(\"\\n\")\n",
    "}\n",
    "\n",
    "/**\n",
    " * Create SSH folder on worker nodes\n",
    " */\n",
    "\n",
    "val numExecutors = sc.getExecutorMemoryStatus.keys.size\n",
    "sc.parallelize(0 until numExecutors, numExecutors).foreach { i =>\n",
    "  createSSHfolder()\n",
    "}"
   ]
  },
  {
   "cell_type": "code",
   "execution_count": null,
   "metadata": {
    "application/vnd.databricks.v1+cell": {
     "inputWidgets": {},
     "nuid": "883e0cbb-6854-49c7-bdfc-3f6e5e500aa0",
     "showTitle": false,
     "title": ""
    }
   },
   "outputs": [],
   "source": [
    "%scala\n",
    "\n",
    "val publicKey = \"cat /root/.ssh/id_rsa.pub\".!!\n",
    "\n",
    "def addAuthorizedPublicKey(key: String): Unit = {\n",
    "  val fw = new java.io.FileWriter(\"/root/.ssh/authorized_keys\", /* append */ true)\n",
    "  fw.write(\"\\n\" + key)\n",
    "  fw.close()\n",
    "}\n",
    "\n",
    "\n",
    "/**\n",
    " * Inject key into executors so that the driver can ssh into them.\n",
    " */\n",
    "\n",
    "val numExecutors = sc.getExecutorMemoryStatus.keys.size\n",
    "sc.parallelize(0 until numExecutors, numExecutors).foreach { i =>\n",
    "  addAuthorizedPublicKey(publicKey)\n",
    "}\n",
    "addAuthorizedPublicKey(publicKey)"
   ]
  },
  {
   "cell_type": "code",
   "execution_count": null,
   "metadata": {
    "application/vnd.databricks.v1+cell": {
     "inputWidgets": {},
     "nuid": "18be4f74-b724-406f-aed8-85f8c6b2913a",
     "showTitle": false,
     "title": ""
    }
   },
   "outputs": [],
   "source": [
    "%scala\n",
    "\n",
    "\n",
    "def startSSHserver(logStdout: Boolean = true): String = {\n",
    "  \n",
    "  \n",
    "  val outBuffer = new collection.mutable.ArrayBuffer[String]()\n",
    "  val logger = ProcessLogger(line => outBuffer += line, println(_))\n",
    "  \n",
    "  val exitCode = \n",
    "    Seq(\"sudo\", \"service\", \"ssh\", \"start\") ! logger\n",
    "  if (logStdout) {\n",
    "    outBuffer.foreach(println)\n",
    "  }\n",
    "  if (exitCode != 0) {\n",
    "    println(s\"FAILED: on host: \")\n",
    "    sys.error(\"Command failed\")\n",
    "  }\n",
    "  println(s\"SUCCESS: on host: \")\n",
    "  outBuffer.mkString(\"\\n\")\n",
    "}\n",
    "\n",
    "/**\n",
    " * Start SSH server on worker nodes\n",
    " */\n",
    "\n",
    "val numExecutors = sc.getExecutorMemoryStatus.keys.size\n",
    "sc.parallelize(0 until numExecutors, numExecutors).foreach { i =>\n",
    "  startSSHserver()\n",
    "}"
   ]
  },
  {
   "cell_type": "code",
   "execution_count": null,
   "metadata": {
    "application/vnd.databricks.v1+cell": {
     "inputWidgets": {},
     "nuid": "3e5e47ae-d73d-4615-b612-424a16bc8867",
     "showTitle": false,
     "title": ""
    }
   },
   "outputs": [],
   "source": [
    "%scala\n",
    "\n",
    "/**\n",
    " * Ssh into the given `host` and execute `command`.\n",
    " */\n",
    "def ssh(host: String, logStdout: Boolean = true): String = {\n",
    "  println(\"ssh'ing onto host - \" + host)\n",
    "  val outBuffer = new collection.mutable.ArrayBuffer[String]()\n",
    "  val logger = ProcessLogger(line => outBuffer += line, println(_))\n",
    "\n",
    "  val exitCode = \n",
    "    Seq(\"ssh\", \"-o\", \"StrictHostKeyChecking=no\", \"-p\", \"22\", \"-i\", \"/home/ubuntu/.ssh/id_rsa\", s\"ubuntu@$host\") ! logger\n",
    "  if (logStdout) {\n",
    "    outBuffer.foreach(println)\n",
    "  }\n",
    "  if (exitCode != 0) {\n",
    "    println(s\"FAILED: on host: $host\")\n",
    "    sys.error(\"Command failed\")\n",
    "  }\n",
    "  println(s\"SUCCESS: on host: $host\")\n",
    "  outBuffer.mkString(\"\\n\")\n",
    "}\n",
    "\n",
    "workers.foreach {ip =>\n",
    "  ssh(ip)\n",
    "}"
   ]
  },
  {
   "cell_type": "code",
   "execution_count": null,
   "metadata": {
    "application/vnd.databricks.v1+cell": {
     "inputWidgets": {},
     "nuid": "cd5cd0ea-c50b-4b17-b2d4-0a78378f0792",
     "showTitle": false,
     "title": ""
    }
   },
   "outputs": [],
   "source": [
    "%sh\n",
    "cat /root/.ssh/known_hosts >> /home/ubuntu/.ssh/known_hosts"
   ]
  },
  {
   "cell_type": "code",
   "execution_count": null,
   "metadata": {
    "application/vnd.databricks.v1+cell": {
     "inputWidgets": {},
     "nuid": "97fc9bfc-0bec-493e-a283-610cea6a4400",
     "showTitle": false,
     "title": ""
    }
   },
   "outputs": [],
   "source": [
    "%sh\n",
    "chown -R ubuntu:ubuntu /home/ubuntu/.ssh/"
   ]
  },
  {
   "cell_type": "code",
   "execution_count": null,
   "metadata": {
    "application/vnd.databricks.v1+cell": {
     "inputWidgets": {},
     "nuid": "d050e5d9-8c37-4102-924a-9b8caa5f9847",
     "showTitle": false,
     "title": ""
    }
   },
   "outputs": [],
   "source": [
    "%sh\n",
    "#!/usr/bin/env bash\n",
    "sudo -i -u ubuntu bash << EOF\n",
    "whoami\n",
    "/databricks/python/bin/python -V\n",
    ". /databricks/conda/etc/profile.d/conda.sh\n",
    "conda activate /databricks/python\n",
    "mpiexec -n 3 -f /home/ubuntu/.ssh/hostfile -prepend-rank hostname\n",
    "EOF"
   ]
  },
  {
   "cell_type": "code",
   "execution_count": null,
   "metadata": {
    "application/vnd.databricks.v1+cell": {
     "inputWidgets": {},
     "nuid": "80b8b06e-7a05-457a-b7d7-0d1a30a9092a",
     "showTitle": false,
     "title": ""
    }
   },
   "outputs": [],
   "source": []
  },
  {
   "cell_type": "code",
   "execution_count": null,
   "metadata": {
    "application/vnd.databricks.v1+cell": {
     "inputWidgets": {},
     "nuid": "2f1643e7-2389-4353-9fd0-8a0996b06155",
     "showTitle": false,
     "title": ""
    }
   },
   "outputs": [],
   "source": []
  },
  {
   "cell_type": "code",
   "execution_count": null,
   "metadata": {
    "application/vnd.databricks.v1+cell": {
     "inputWidgets": {},
     "nuid": "9605752e-ef2b-485a-994a-5f08a5a780c8",
     "showTitle": false,
     "title": ""
    }
   },
   "outputs": [],
   "source": []
  }
 ],
 "metadata": {
  "application/vnd.databricks.v1+notebook": {
   "dashboards": [],
   "language": "python",
   "notebookMetadata": {
    "pythonIndentUnit": 4
   },
   "notebookName": "int_ipy_setup_sc_v1",
   "notebookOrigID": 1434972658075254,
   "widgets": {}
  },
  "kernelspec": {
   "display_name": "Python 3 (ipykernel)",
   "language": "python",
   "name": "python3"
  },
  "language_info": {
   "codemirror_mode": {
    "name": "ipython",
    "version": 3
   },
   "file_extension": ".py",
   "mimetype": "text/x-python",
   "name": "python",
   "nbconvert_exporter": "python",
   "pygments_lexer": "ipython3",
   "version": "3.9.7"
  }
 },
 "nbformat": 4,
 "nbformat_minor": 4
}
