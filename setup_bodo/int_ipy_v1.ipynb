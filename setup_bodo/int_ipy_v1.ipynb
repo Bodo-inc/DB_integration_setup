{
 "cells": [
  {
   "cell_type": "code",
   "execution_count": null,
   "metadata": {
    "application/vnd.databricks.v1+cell": {
     "inputWidgets": {},
     "nuid": "16f39c25-923a-41b8-81a0-1301659a04ac",
     "showTitle": false,
     "title": ""
    }
   },
   "outputs": [],
   "source": [
    "import bodo\n",
    "bodo.__version__"
   ]
  },
  {
   "cell_type": "code",
   "execution_count": null,
   "metadata": {
    "application/vnd.databricks.v1+cell": {
     "inputWidgets": {},
     "nuid": "7e161051-9ddd-4d68-80dc-d4b98552267e",
     "showTitle": false,
     "title": ""
    }
   },
   "outputs": [],
   "source": [
    "import ipyparallel as ipp\n",
    "ipp.__version__"
   ]
  },
  {
   "cell_type": "code",
   "execution_count": null,
   "metadata": {
    "application/vnd.databricks.v1+cell": {
     "inputWidgets": {},
     "nuid": "d3aadc56-fa02-4be9-8380-e04c55b4ad4a",
     "showTitle": false,
     "title": ""
    }
   },
   "outputs": [],
   "source": [
    "import os\n",
    "import sys\n",
    "import json\n",
    "from subprocess import run, STDOUT\n",
    "\n",
    "os.environ['OMPI_ALLOW_RUN_AS_ROOT'] = '1'\n",
    "os.environ['OMPI_ALLOW_RUN_AS_ROOT_CONFIRM'] = '1'"
   ]
  },
  {
   "cell_type": "code",
   "execution_count": null,
   "metadata": {
    "application/vnd.databricks.v1+cell": {
     "inputWidgets": {},
     "nuid": "859727d8-7d76-42a7-a2d4-72a6c6e677cc",
     "showTitle": false,
     "title": ""
    }
   },
   "outputs": [],
   "source": [
    "# command to stop cluster\n",
    "# c.stop_cluster_sync()"
   ]
  },
  {
   "cell_type": "code",
   "execution_count": null,
   "metadata": {
    "application/vnd.databricks.v1+cell": {
     "inputWidgets": {},
     "nuid": "881e16ce-a11b-4116-8a39-d3f53af78766",
     "showTitle": false,
     "title": ""
    }
   },
   "outputs": [],
   "source": [
    "c = ipp.Cluster(profile=\"mpi\",\n",
    "                engine_launcher_class='MPI',\n",
    "                n=n_cores,  # Number of engines, you can change this\n",
    "                controller_ip='*',\n",
    "                controller_args=[\"--nodb\"],\n",
    "                controller_location=spark.conf.get('spark.driver.host')\n",
    "               )\n",
    "c.engine_launcher_class.mpi_args = [\"-machinefile\", \"/home/ubuntu/.ssh/hostfile\"]\n",
    "c.start_controller_sync()"
   ]
  },
  {
   "cell_type": "code",
   "execution_count": null,
   "metadata": {
    "application/vnd.databricks.v1+cell": {
     "inputWidgets": {},
     "nuid": "8a83a601-9197-462f-b17e-57e91ab694fc",
     "showTitle": false,
     "title": ""
    }
   },
   "outputs": [],
   "source": [
    "# Get connection info\n",
    "connection_info = await c.controller.get_connection_info()\n",
    "engine_info = connection_info['engine']"
   ]
  },
  {
   "cell_type": "code",
   "execution_count": null,
   "metadata": {
    "application/vnd.databricks.v1+cell": {
     "inputWidgets": {},
     "nuid": "c4dbae88-a19a-4a9a-af5c-81e55084d33b",
     "showTitle": false,
     "title": ""
    }
   },
   "outputs": [],
   "source": [
    "os.environ['CONNECTION_INFO'] = json.dumps(engine_info)\n",
    "os.environ['connection_file'] = os.path.join(\n",
    "        c.profile_dir,\n",
    "        'security',\n",
    "        f'ipcontroller-{c.cluster_id}-engine.json',\n",
    "    )"
   ]
  },
  {
   "cell_type": "code",
   "execution_count": null,
   "metadata": {
    "application/vnd.databricks.v1+cell": {
     "inputWidgets": {},
     "nuid": "11d5ce5f-0e7b-4685-a547-a2f98f2efa48",
     "showTitle": false,
     "title": ""
    }
   },
   "outputs": [],
   "source": [
    "# Get connection info\n",
    "connection_info = await c.controller.get_connection_info()\n",
    "engine_info = connection_info['engine']\n",
    "\n",
    "\n",
    "\n",
    "def send_connection_info(connection_info, connection_file):\n",
    "    env = os.environ.copy()\n",
    "    env[\"CONNECTION_INFO\"] = json.dumps(connection_info)\n",
    "    cmd =     [\n",
    "        'mpiexec',\n",
    "        '-ppn',\n",
    "        '1',\n",
    "        '-machinefile',\n",
    "        \"/home/ubuntu/.ssh/hostfile\",\n",
    "        'sh',\n",
    "        '-c',\n",
    "        f'echo $CONNECTION_INFO > \"{connection_file}\"'\n",
    "\n",
    "    ]\n",
    "    p = run(cmd, capture_output=True, text=True, input=None, env=env)\n",
    "    if p.returncode:\n",
    "        print(p.stderr, file=sys.stderr)\n",
    "        p.check_returncode()\n",
    "    return p\n",
    "\n",
    "send_connection_info(\n",
    "    engine_info,\n",
    "    os.path.join(\n",
    "        c.profile_dir,\n",
    "        'security',\n",
    "        f'ipcontroller-{c.cluster_id}-engine.json',\n",
    "    ),\n",
    ")"
   ]
  },
  {
   "cell_type": "code",
   "execution_count": null,
   "metadata": {
    "application/vnd.databricks.v1+cell": {
     "inputWidgets": {},
     "nuid": "ce9d5fab-fe26-41d5-9261-4c37b50bbcca",
     "showTitle": false,
     "title": ""
    }
   },
   "outputs": [],
   "source": [
    "c.start_engines_sync()\n",
    "rc = c.connect_client_sync()\n",
    "rc.wait_for_engines(n=c.n)\n",
    "view = rc[:]\n",
    "view.activate()\n",
    "view.block = True"
   ]
  },
  {
   "cell_type": "code",
   "execution_count": null,
   "metadata": {
    "application/vnd.databricks.v1+cell": {
     "inputWidgets": {},
     "nuid": "38a82eb7-b919-4a67-abf9-dcef8077af70",
     "showTitle": false,
     "title": ""
    }
   },
   "outputs": [],
   "source": [
    "%%px\n",
    "from mpi4py import MPI\n",
    "comm = MPI.COMM_WORLD\n",
    "print(f\"Hello World from rank {comm.Get_rank()} on host {MPI.Get_processor_name()}. total ranks={comm.Get_size()}\")"
   ]
  },
  {
   "cell_type": "code",
   "execution_count": null,
   "metadata": {
    "application/vnd.databricks.v1+cell": {
     "inputWidgets": {},
     "nuid": "88233dce-5983-4f6b-ad85-0218c6599a6b",
     "showTitle": false,
     "title": ""
    }
   },
   "outputs": [],
   "source": []
  }
 ],
 "metadata": {
  "application/vnd.databricks.v1+notebook": {
   "dashboards": [],
   "language": "python",
   "notebookMetadata": {
    "pythonIndentUnit": 4
   },
   "notebookName": "int_ipy_v1",
   "notebookOrigID": 1434972658075225,
   "widgets": {}
  },
  "kernelspec": {
   "display_name": "Python 3 (ipykernel)",
   "language": "python",
   "name": "python3"
  },
  "language_info": {
   "codemirror_mode": {
    "name": "ipython",
    "version": 3
   },
   "file_extension": ".py",
   "mimetype": "text/x-python",
   "name": "python",
   "nbconvert_exporter": "python",
   "pygments_lexer": "ipython3",
   "version": "3.9.7"
  }
 },
 "nbformat": 4,
 "nbformat_minor": 4
}
